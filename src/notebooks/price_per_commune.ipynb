{
  "nbformat": 4,
  "nbformat_minor": 0,
  "metadata": {
    "colab": {
      "name": "price_per_commune.ipynb",
      "provenance": [],
      "collapsed_sections": []
    },
    "kernelspec": {
      "display_name": "Python 3",
      "name": "python3"
    },
    "language_info": {
      "name": "python"
    }
  },
  "cells": [
    {
      "cell_type": "code",
      "metadata": {
        "id": "ds6KI88V04py",
        "colab": {
          "base_uri": "https://localhost:8080/"
        },
        "outputId": "1cfa9176-831a-40e9-b63c-1ff07b14ee96"
      },
      "source": [
        "from google.colab import drive\n",
        "drive.mount('/content/drive')"
      ],
      "execution_count": 24,
      "outputs": [
        {
          "output_type": "stream",
          "text": [
            "Drive already mounted at /content/drive; to attempt to forcibly remount, call drive.mount(\"/content/drive\", force_remount=True).\n"
          ],
          "name": "stdout"
        }
      ]
    },
    {
      "cell_type": "code",
      "metadata": {
        "colab": {
          "base_uri": "https://localhost:8080/"
        },
        "id": "JzupjYNAWOUO",
        "outputId": "597b54b2-fcd5-427b-8b5e-1d8bcd270400"
      },
      "source": [
        "############################ Import libraries ############################\n",
        "\n",
        "import pandas as pd\n",
        "\n",
        "############################ code ############################\n",
        "\n",
        "## import data\n",
        "price_data = pd.read_csv(\"/content/drive/My Drive/Data for Good (saison 9) - projet GeoWatch Labs/Groupe 3 - Marchés Alimentaires/prix/wfp_food_prices_mauritania.csv\")\n",
        "price_data[\"date\"] = [\"-\".join(el.split(\"-\")[:2]) for el in price_data[\"date\"]]\n",
        "price_data[\"id\"] = price_data[\"date\"] + price_data[\"admname\"]\n",
        "price_data_clean = price_data[[\"id\", \"price\", \"admname\", \"date\"]]\n",
        "\n",
        "month_to_nb = {\"nan\" : \"\", \"Decembre\" : \"12\", \"Novembre\": \"11\", \"Octobre\":\"10\", \"Septembre\": \"09\", \"Aout\":\"08\",\"Juillet\":\"07\", \"Juin\":\"06\", \"Mai\" : \"05\", \"Avril\" : \"04\", \"Mars\" :\"03\", \"Fevrier\" : \"02\", \"Janvier\" :\"01\" }\n",
        "data = pd.read_csv(\"/content/drive/My Drive/Data for Good (saison 9) - projet GeoWatch Labs/Groupe 3 - Marchés Alimentaires/aggregated_match_for_FSMS_files_with_yields.csv\")\n",
        "data[\"id\"] = [str(data.loc[i, \"year\"]) + \"-\" + month_to_nb[str(data.loc[i, \"month\"])]  + str(data.loc[i, \"wilaya\"]) for i in range(data.shape[0])] \n",
        "\n",
        "## clean\n",
        "\n",
        "temp = pd.merge(data,price_data_clean,left_on='id',right_on='id', how=\"inner\")\n",
        "temp.drop(columns=['id'])\n",
        "\n",
        "temp.to_csv(\"/content/drive/My Drive/Data for Good (saison 9) - projet GeoWatch Labs/Groupe 3 - Marchés Alimentaires/aggregated_match_for_FSMS_files_with_yields_with_price.csv\")"
      ],
      "execution_count": 34,
      "outputs": [
        {
          "output_type": "stream",
          "text": [
            "/usr/local/lib/python3.7/dist-packages/IPython/core/interactiveshell.py:2718: DtypeWarning: Columns (3,5,6,7,8,15,16,17,18,19,41,42,43,44,45,46,47,48,49,50,58) have mixed types.Specify dtype option on import or set low_memory=False.\n",
            "  interactivity=interactivity, compiler=compiler, result=result)\n"
          ],
          "name": "stderr"
        }
      ]
    }
  ]
}