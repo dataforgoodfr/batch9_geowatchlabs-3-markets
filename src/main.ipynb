{
 "metadata": {
  "language_info": {
   "codemirror_mode": {
    "name": "ipython",
    "version": 3
   },
   "file_extension": ".py",
   "mimetype": "text/x-python",
   "name": "python",
   "nbconvert_exporter": "python",
   "pygments_lexer": "ipython3",
   "version": "3.6.13"
  },
  "orig_nbformat": 4,
  "kernelspec": {
   "name": "python3",
   "display_name": "Python 3.6.13 64-bit ('py.3.6': conda)"
  },
  "interpreter": {
   "hash": "83c28c9713d20a9c719dd77729fc8bed60374bfb3a6580e6cf0238caeb8dc6bf"
  }
 },
 "nbformat": 4,
 "nbformat_minor": 2,
 "cells": [
  {
   "source": [
    "# BUILD DATA"
   ],
   "cell_type": "markdown",
   "metadata": {}
  },
  {
   "cell_type": "code",
   "execution_count": 1,
   "metadata": {},
   "outputs": [],
   "source": [
    "import linearmodels"
   ]
  },
  {
   "cell_type": "code",
   "execution_count": 2,
   "metadata": {},
   "outputs": [],
   "source": [
    "\n",
    "import os \n",
    "import shutil\n",
    "import numpy as np\n",
    "import pandas as pd\n",
    "from pathlib import Path\n",
    "home = str(Path.home())\n",
    "\n",
    "#os.chdir('C:/Users/eurhope/Desktop/DFG/geowatchlab/3_prix_alim/batch9_geowatchlabs-3-markets/src')\n",
    "\n"
   ]
  },
  {
   "cell_type": "code",
   "execution_count": null,
   "metadata": {},
   "outputs": [],
   "source": [
    "#\n",
    "# MAKE DATA FROM RAW FILES\n",
    "#\n",
    "\n",
    "from import_functions.import_and_aggregate import *\n",
    "\n",
    "data = import_dataset()\n",
    "output_file = 'aggregated_match_for_FSMS_files_with_yields_with_price.csv'\n",
    "shutil.copy(output_file, home + '/' + output_file)\n"
   ]
  },
  {
   "cell_type": "code",
   "execution_count": 3,
   "metadata": {},
   "outputs": [],
   "source": [
    "\n",
    "from preprocessing.preprocessing import *\n",
    "\n",
    "df_raw = preprocess_FSMS_files_with_yields_and_prices()\n",
    "\n",
    "#\n",
    "# IMPORT DATA\n",
    "#\n",
    "\n",
    "from import_functions.get_agricultural_geo import *\n",
    "from import_functions.clean_wilaya_moughataa import *\n",
    "from import_functions.fill_geo_data_dec12 import *\n",
    "\n",
    "file_agg = './aggregated_match_for_FSMS_files_with_yields.csv'\n",
    "file_agg = './standardized_aggregated_dataset.csv'\n",
    "file_agg = './aggregated_match_for_FSMS_files_with_yields_with_price.csv'\n",
    "\n",
    "#df_raw = pd.read_csv(file_agg)\n",
    "\n",
    "#\n",
    "# CLEAN FROM MONTH\n",
    "#\n",
    "\n",
    "df = df_raw.dropna(subset={'month'})\n",
    "df = df[df['month'].isin(['Decembre', 'Juin'])]\n",
    "\n",
    "#\n",
    "# remove price columns\n",
    "#\n",
    "df = df.drop(columns={'price', 'category', 'cmid', 'ptid', 'umid',\n",
    "                      'catid', 'sn', 'currency', 'unit', 'cmname',\n",
    "                      'mktname', 'mktid'})\n",
    "df = df.drop_duplicates()\n",
    "\n",
    "# \n",
    "# FILL LATITUDE, LONGITUDE AND MOUGHATAA FOR DEC 2012\n",
    "# \n",
    "\n",
    "df = fill_geo_data_dec12(df)\n",
    "\n",
    "#\n",
    "# CLEAN WILAYA AND MOUGHATAA NAMES\n",
    "#\n",
    "\n",
    "list_moughataa = df.moughataa.unique()\n",
    "list_wilaya = df.wilaya.unique()\n",
    "\n",
    "df2 = clean_moughataa_col(df)\n",
    "df2 = clean_wilaya_col(df2)\n",
    "\n",
    "list_moughataa2 = df2.moughataa.unique()\n",
    "list_wilaya2 = df2.wilaya.unique()\n",
    "\n",
    "df2_dec12 = df2[(df2.year == 2012) & (df2.month == 'Decembre')]\n"
   ]
  },
  {
   "source": [
    "# CREATE HOUSEHOLD GROUPS FROM MOUGHATAA AND INCOME QUARTILE"
   ],
   "cell_type": "markdown",
   "metadata": {}
  },
  {
   "cell_type": "code",
   "execution_count": 4,
   "metadata": {},
   "outputs": [
    {
     "output_type": "stream",
     "name": "stderr",
     "text": [
      "C:\\Users\\eurhope\\Anaconda3\\envs\\py.3.6\\lib\\site-packages\\ipykernel_launcher.py:46: SettingWithCopyWarning: \nA value is trying to be set on a copy of a slice from a DataFrame.\nTry using .loc[row_indexer,col_indexer] = value instead\n\nSee the caveats in the documentation: https://pandas.pydata.org/pandas-docs/stable/user_guide/indexing.html#returning-a-view-versus-a-copy\nC:\\Users\\eurhope\\Anaconda3\\envs\\py.3.6\\lib\\site-packages\\ipykernel_launcher.py:46: SettingWithCopyWarning: \nA value is trying to be set on a copy of a slice from a DataFrame.\nTry using .loc[row_indexer,col_indexer] = value instead\n\nSee the caveats in the documentation: https://pandas.pydata.org/pandas-docs/stable/user_guide/indexing.html#returning-a-view-versus-a-copy\nC:\\Users\\eurhope\\Anaconda3\\envs\\py.3.6\\lib\\site-packages\\ipykernel_launcher.py:46: SettingWithCopyWarning: \nA value is trying to be set on a copy of a slice from a DataFrame.\nTry using .loc[row_indexer,col_indexer] = value instead\n\nSee the caveats in the documentation: https://pandas.pydata.org/pandas-docs/stable/user_guide/indexing.html#returning-a-view-versus-a-copy\nC:\\Users\\eurhope\\Anaconda3\\envs\\py.3.6\\lib\\site-packages\\ipykernel_launcher.py:46: SettingWithCopyWarning: \nA value is trying to be set on a copy of a slice from a DataFrame.\nTry using .loc[row_indexer,col_indexer] = value instead\n\nSee the caveats in the documentation: https://pandas.pydata.org/pandas-docs/stable/user_guide/indexing.html#returning-a-view-versus-a-copy\nC:\\Users\\eurhope\\Anaconda3\\envs\\py.3.6\\lib\\site-packages\\ipykernel_launcher.py:46: SettingWithCopyWarning: \nA value is trying to be set on a copy of a slice from a DataFrame.\nTry using .loc[row_indexer,col_indexer] = value instead\n\nSee the caveats in the documentation: https://pandas.pydata.org/pandas-docs/stable/user_guide/indexing.html#returning-a-view-versus-a-copy\nC:\\Users\\eurhope\\Anaconda3\\envs\\py.3.6\\lib\\site-packages\\ipykernel_launcher.py:46: SettingWithCopyWarning: \nA value is trying to be set on a copy of a slice from a DataFrame.\nTry using .loc[row_indexer,col_indexer] = value instead\n\nSee the caveats in the documentation: https://pandas.pydata.org/pandas-docs/stable/user_guide/indexing.html#returning-a-view-versus-a-copy\nC:\\Users\\eurhope\\Anaconda3\\envs\\py.3.6\\lib\\site-packages\\ipykernel_launcher.py:46: SettingWithCopyWarning: \nA value is trying to be set on a copy of a slice from a DataFrame.\nTry using .loc[row_indexer,col_indexer] = value instead\n\nSee the caveats in the documentation: https://pandas.pydata.org/pandas-docs/stable/user_guide/indexing.html#returning-a-view-versus-a-copy\nC:\\Users\\eurhope\\Anaconda3\\envs\\py.3.6\\lib\\site-packages\\ipykernel_launcher.py:46: SettingWithCopyWarning: \nA value is trying to be set on a copy of a slice from a DataFrame.\nTry using .loc[row_indexer,col_indexer] = value instead\n\nSee the caveats in the documentation: https://pandas.pydata.org/pandas-docs/stable/user_guide/indexing.html#returning-a-view-versus-a-copy\nC:\\Users\\eurhope\\Anaconda3\\envs\\py.3.6\\lib\\site-packages\\ipykernel_launcher.py:53: FutureWarning: Indexing with multiple keys (implicitly converted to a tuple of keys) will be deprecated, use a list instead.\n"
     ]
    }
   ],
   "source": [
    "\n",
    "#\n",
    "# MAKE HOUSEHOLD GROUPS\n",
    "#\n",
    "\n",
    "cols = df2.columns\n",
    "revenu_col = list(cols[cols.str.contains('revenu|rev')])\n",
    "col_interest = ['ident', 'year', 'month',\n",
    "                'wilaya', 'moughataa', 'commune', 'milieu', 'latitude', 'longitude',\n",
    "                'LHZ', 'fcs', 'csi', \n",
    "                'Nb_hom', 'Nb_fem','TxDep', 'Equiv_ad'] + revenu_col\n",
    "                \n",
    "col_crop = []\n",
    "\n",
    "dftest= df2[df2['year'] == 2012][['year', 'month', 'rev_percap', 'revenu_mens', 'revenu1']] \n",
    "\n",
    "df2a = df2[col_interest]\n",
    "df2a = df2a.dropna(subset={'rev_percap'})\n",
    "\n",
    "#df2a = df2a[df2a['month'].isin(['Juin'])]\n",
    "\n",
    "col = 'rev_percap'\n",
    "\n",
    "list_year = [2012, 2013, 2014, 2015]\n",
    "list_month = ['Decembre', 'Juin']\n",
    "list_data_year = []\n",
    "\n",
    "for y in list_year:\n",
    "    for m in list_month:\n",
    "    \n",
    "        df3 = df2a[(df2a['year'] == y) & (df2a['month'] == m)]    \n",
    "    \n",
    "        rev = pd.DataFrame(\n",
    "                    {\n",
    "                        \"Mean\": [np.mean(df3[col])],\n",
    "                        \"Min\": [np.min(df3[col])],\n",
    "                        \"Max\": [np.max(df3[col])],\n",
    "                        \"Q1\": [np.quantile(df3[col], 0.25, axis=0)],\n",
    "                        \"Q2\": [np.quantile(df3[col], 0.5, axis=0)],               \n",
    "                        \"Q3\": [np.quantile(df3[col], 0.75, axis=0)],               \n",
    "                    })        \n",
    "            \n",
    "        df3['rev_catg'] = np.select([(df3.rev_percap < rev.loc[0,'Q1']),\n",
    "                                    (df3.rev_percap >=  rev.loc[0,'Q1']) & (df3.rev_percap <  rev.loc[0,'Q2']),\n",
    "                                     (df3.rev_percap >= rev.loc[0,'Q2']) & (df3.rev_percap <  rev.loc[0,'Q3']),\n",
    "                                    (df3.rev_percap >=  rev.loc[0,'Q3'])],\n",
    "                                    [\"1\", \"2\", \"3\", \"4\"])\n",
    "        \n",
    "        list_data_year.append(df3)\n",
    "\n",
    "df3 = pd.concat(list_data_year)\n",
    "df3['house_catg'] = df3['moughataa'] + df3['rev_catg']\n",
    "\n",
    "data = df3.groupby(['house_catg', 'year', 'month', 'moughataa', 'rev_catg'])['fcs', 'rev_percap'].mean().reset_index(drop=False)\n",
    "  \n",
    "datac = df3.value_counts(['house_catg', 'year', 'month']).reset_index(drop=False)\n",
    "datac.columns = ['house_catg', 'year', 'month', 'n']\n",
    "\n",
    "data = data.merge(datac, on = ['house_catg', 'year', 'month'], how = 'left')\n",
    "\n",
    "#\n",
    "# CREATE TIME COLUMN\n",
    "# \n",
    "\n",
    "time_df = data[['year', 'month']].drop_duplicates()\n",
    "time_df = time_df.sort_values('month', ascending=False).sort_values('year')\n",
    "time_df = time_df.reset_index(drop=True).reset_index(drop=False)\n",
    "time_df.columns = ['time', 'year', 'month']\n",
    "\n",
    "data = data.merge(time_df, on = ['year', 'month'], how = 'left')\n",
    "data = data.sort_values('time').reset_index(drop=True)\n",
    "\n",
    "data = data.set_index(['house_catg', 'time'])\n",
    "\n",
    "data['month_Decembre'] = pd.get_dummies(data)['month_Decembre']\n",
    "\n",
    "data['rev_percap'] = data['rev_percap']/1000"
   ]
  },
  {
   "source": [
    "# ESTIMATION ON PANEL DATA : WITHIN ESTIMATOR"
   ],
   "cell_type": "markdown",
   "metadata": {}
  },
  {
   "cell_type": "code",
   "execution_count": 6,
   "metadata": {},
   "outputs": [
    {
     "output_type": "execute_result",
     "data": {
      "text/plain": [
       "                         BetweenOLS Estimation Summary                          \n",
       "================================================================================\n",
       "Dep. Variable:                    fcs   R-squared:                        0.9123\n",
       "Estimator:                 BetweenOLS   R-squared (Between):              0.9123\n",
       "No. Observations:                 297   R-squared (Within):              -25.681\n",
       "Date:                Sat, Jun 19 2021   R-squared (Overall):              0.4116\n",
       "Time:                        18:06:27   Log-likelihood                   -1270.5\n",
       "Cov. Estimator:            Unadjusted                                           \n",
       "                                        F-statistic:                      1534.5\n",
       "Entities:                         297   P-value                           0.0000\n",
       "Avg Obs:                       4.8485   Distribution:                   F(2,295)\n",
       "Min Obs:                       1.0000                                           \n",
       "Max Obs:                       8.0000   F-statistic (robust):             1534.5\n",
       "                                        P-value                           0.0000\n",
       "Time periods:                       8   Distribution:                   F(2,295)\n",
       "Avg Obs:                       180.00                                           \n",
       "Min Obs:                       150.00                                           \n",
       "Max Obs:                       201.00                                           \n",
       "                                                                                \n",
       "                               Parameter Estimates                                \n",
       "==================================================================================\n",
       "                Parameter  Std. Err.     T-stat    P-value    Lower CI    Upper CI\n",
       "----------------------------------------------------------------------------------\n",
       "rev_percap         1.0224     0.0827     12.362     0.0000      0.8596      1.1852\n",
       "month_Decembre     87.805     2.8040     31.315     0.0000      82.286      93.323\n",
       "==================================================================================\n",
       "PanelResults, id: 0x20c062e5a90"
      ],
      "text/html": "<table class=\"simpletable\">\n<caption>BetweenOLS Estimation Summary</caption>\n<tr>\n  <th>Dep. Variable:</th>           <td>fcs</td>       <th>  R-squared:         </th>    <td>0.9123</td> \n</tr>\n<tr>\n  <th>Estimator:</th>           <td>BetweenOLS</td>    <th>  R-squared (Between):</th>   <td>0.9123</td> \n</tr>\n<tr>\n  <th>No. Observations:</th>        <td>297</td>       <th>  R-squared (Within):</th>    <td>-25.681</td>\n</tr>\n<tr>\n  <th>Date:</th>             <td>Sat, Jun 19 2021</td> <th>  R-squared (Overall):</th>   <td>0.4116</td> \n</tr>\n<tr>\n  <th>Time:</th>                 <td>18:06:27</td>     <th>  Log-likelihood     </th>    <td>-1270.5</td>\n</tr>\n<tr>\n  <th>Cov. Estimator:</th>      <td>Unadjusted</td>    <th>                     </th>       <td></td>    \n</tr>\n<tr>\n  <th></th>                          <td></td>         <th>  F-statistic:       </th>    <td>1534.5</td> \n</tr>\n<tr>\n  <th>Entities:</th>                <td>297</td>       <th>  P-value            </th>    <td>0.0000</td> \n</tr>\n<tr>\n  <th>Avg Obs:</th>               <td>4.8485</td>      <th>  Distribution:      </th>   <td>F(2,295)</td>\n</tr>\n<tr>\n  <th>Min Obs:</th>               <td>1.0000</td>      <th>                     </th>       <td></td>    \n</tr>\n<tr>\n  <th>Max Obs:</th>               <td>8.0000</td>      <th>  F-statistic (robust):</th>  <td>1534.5</td> \n</tr>\n<tr>\n  <th></th>                          <td></td>         <th>  P-value            </th>    <td>0.0000</td> \n</tr>\n<tr>\n  <th>Time periods:</th>             <td>8</td>        <th>  Distribution:      </th>   <td>F(2,295)</td>\n</tr>\n<tr>\n  <th>Avg Obs:</th>               <td>180.00</td>      <th>                     </th>       <td></td>    \n</tr>\n<tr>\n  <th>Min Obs:</th>               <td>150.00</td>      <th>                     </th>       <td></td>    \n</tr>\n<tr>\n  <th>Max Obs:</th>               <td>201.00</td>      <th>                     </th>       <td></td>    \n</tr>\n<tr>\n  <th></th>                          <td></td>         <th>                     </th>       <td></td>    \n</tr>\n</table>\n<table class=\"simpletable\">\n<caption>Parameter Estimates</caption>\n<tr>\n         <td></td>        <th>Parameter</th> <th>Std. Err.</th> <th>T-stat</th> <th>P-value</th> <th>Lower CI</th> <th>Upper CI</th>\n</tr>\n<tr>\n  <th>rev_percap</th>      <td>1.0224</td>    <td>0.0827</td>   <td>12.362</td> <td>0.0000</td>   <td>0.8596</td>   <td>1.1852</td> \n</tr>\n<tr>\n  <th>month_Decembre</th>  <td>87.805</td>    <td>2.8040</td>   <td>31.315</td> <td>0.0000</td>   <td>82.286</td>   <td>93.323</td> \n</tr>\n</table><br/>id: 0x20c062e5a90"
     },
     "metadata": {},
     "execution_count": 6
    }
   ],
   "source": [
    "\n",
    "#\n",
    "# PANEL\n",
    "#\n",
    "from linearmodels import BetweenOLS\n",
    "\n",
    "w = data.n\n",
    "mod = BetweenOLS.from_formula('fcs ~ rev_percap + month_Decembre + EntityEffects',\n",
    "                            data = data, weights=w)\n",
    "mod.fit()\n",
    "\n",
    "# INTERPRETATION : TO BE FULLY CHECKED\n",
    "# une augmentation de 1000 du revenu par rapport à sa moyenne sur a période\n",
    "# augmente de X le score fcs par rapport à sa moyenne sur a période\n"
   ]
  },
  {
   "cell_type": "code",
   "execution_count": 7,
   "metadata": {},
   "outputs": [
    {
     "output_type": "execute_result",
     "data": {
      "text/plain": [
       "                         BetweenOLS Estimation Summary                          \n",
       "================================================================================\n",
       "Dep. Variable:                    fcs   R-squared:                        0.7110\n",
       "Estimator:                 BetweenOLS   R-squared (Between):              0.7110\n",
       "No. Observations:                 214   R-squared (Within):              -0.9776\n",
       "Date:                Sat, Jun 19 2021   R-squared (Overall):              0.6841\n",
       "Time:                        18:06:50   Log-likelihood                   -1037.0\n",
       "Cov. Estimator:            Unadjusted                                           \n",
       "                                        F-statistic:                      523.99\n",
       "Entities:                         214   P-value                           0.0000\n",
       "Avg Obs:                       3.4252   Distribution:                   F(1,213)\n",
       "Min Obs:                       1.0000                                           \n",
       "Max Obs:                       4.0000   F-statistic (robust):             523.99\n",
       "                                        P-value                           0.0000\n",
       "Time periods:                       4   Distribution:                   F(1,213)\n",
       "Avg Obs:                       183.25                                           \n",
       "Min Obs:                       166.00                                           \n",
       "Max Obs:                       201.00                                           \n",
       "                                                                                \n",
       "                             Parameter Estimates                              \n",
       "==============================================================================\n",
       "            Parameter  Std. Err.     T-stat    P-value    Lower CI    Upper CI\n",
       "------------------------------------------------------------------------------\n",
       "rev_percap     3.3380     0.1458     22.891     0.0000      3.0505      3.6254\n",
       "==============================================================================\n",
       "PanelResults, id: 0x20c06312cc0"
      ],
      "text/html": "<table class=\"simpletable\">\n<caption>BetweenOLS Estimation Summary</caption>\n<tr>\n  <th>Dep. Variable:</th>           <td>fcs</td>       <th>  R-squared:         </th>    <td>0.7110</td> \n</tr>\n<tr>\n  <th>Estimator:</th>           <td>BetweenOLS</td>    <th>  R-squared (Between):</th>   <td>0.7110</td> \n</tr>\n<tr>\n  <th>No. Observations:</th>        <td>214</td>       <th>  R-squared (Within):</th>    <td>-0.9776</td>\n</tr>\n<tr>\n  <th>Date:</th>             <td>Sat, Jun 19 2021</td> <th>  R-squared (Overall):</th>   <td>0.6841</td> \n</tr>\n<tr>\n  <th>Time:</th>                 <td>18:06:50</td>     <th>  Log-likelihood     </th>    <td>-1037.0</td>\n</tr>\n<tr>\n  <th>Cov. Estimator:</th>      <td>Unadjusted</td>    <th>                     </th>       <td></td>    \n</tr>\n<tr>\n  <th></th>                          <td></td>         <th>  F-statistic:       </th>    <td>523.99</td> \n</tr>\n<tr>\n  <th>Entities:</th>                <td>214</td>       <th>  P-value            </th>    <td>0.0000</td> \n</tr>\n<tr>\n  <th>Avg Obs:</th>               <td>3.4252</td>      <th>  Distribution:      </th>   <td>F(1,213)</td>\n</tr>\n<tr>\n  <th>Min Obs:</th>               <td>1.0000</td>      <th>                     </th>       <td></td>    \n</tr>\n<tr>\n  <th>Max Obs:</th>               <td>4.0000</td>      <th>  F-statistic (robust):</th>  <td>523.99</td> \n</tr>\n<tr>\n  <th></th>                          <td></td>         <th>  P-value            </th>    <td>0.0000</td> \n</tr>\n<tr>\n  <th>Time periods:</th>             <td>4</td>        <th>  Distribution:      </th>   <td>F(1,213)</td>\n</tr>\n<tr>\n  <th>Avg Obs:</th>               <td>183.25</td>      <th>                     </th>       <td></td>    \n</tr>\n<tr>\n  <th>Min Obs:</th>               <td>166.00</td>      <th>                     </th>       <td></td>    \n</tr>\n<tr>\n  <th>Max Obs:</th>               <td>201.00</td>      <th>                     </th>       <td></td>    \n</tr>\n<tr>\n  <th></th>                          <td></td>         <th>                     </th>       <td></td>    \n</tr>\n</table>\n<table class=\"simpletable\">\n<caption>Parameter Estimates</caption>\n<tr>\n       <td></td>      <th>Parameter</th> <th>Std. Err.</th> <th>T-stat</th> <th>P-value</th> <th>Lower CI</th> <th>Upper CI</th>\n</tr>\n<tr>\n  <th>rev_percap</th>  <td>3.3380</td>    <td>0.1458</td>   <td>22.891</td> <td>0.0000</td>   <td>3.0505</td>   <td>3.6254</td> \n</tr>\n</table><br/>id: 0x20c06312cc0"
     },
     "metadata": {},
     "execution_count": 7
    }
   ],
   "source": [
    "\n",
    "#\n",
    "# ESTIMATION EXCLUDING DECEMBER\n",
    "#\n",
    "\n",
    "datajun = data[data['month'].isin(['Juin'])].reset_index(drop=False)\n",
    "datajun = datajun.drop(columns={'time'})\n",
    "time_df = datajun[['year', 'month']].drop_duplicates()\n",
    "time_df = time_df.sort_values('month', ascending=False).sort_values('year')\n",
    "time_df = time_df.reset_index(drop=True).reset_index(drop=False)\n",
    "time_df.columns = ['time', 'year', 'month']\n",
    "\n",
    "datajun = datajun.merge(time_df, on = ['year', 'month'], how = 'left')\n",
    "datajun = datajun.sort_values('time').reset_index(drop=True)\n",
    "datajun = datajun.set_index(['house_catg', 'time'])\n",
    "\n",
    "w = datajun.n\n",
    "mod = BetweenOLS.from_formula('fcs ~ rev_percap + EntityEffects',\n",
    "                            data = datajun, weights=w)\n",
    "mod.fit()"
   ]
  }
 ]
}